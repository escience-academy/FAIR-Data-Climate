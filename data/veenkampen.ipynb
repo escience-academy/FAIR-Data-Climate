{
 "cells": [
  {
   "cell_type": "code",
   "execution_count": 1,
   "metadata": {},
   "outputs": [],
   "source": [
    "import numpy as np\n",
    "import pandas as pd\n",
    "import xarray as xr\n",
    "from datetime import datetime\n",
    "\n",
    "pd.set_option('display.max_columns', 200)"
   ]
  },
  {
   "cell_type": "markdown",
   "metadata": {},
   "source": [
    "The original header file is located at [https://met.wur.nl/veenkampen/data/10min_header.xlsm]() , it is also possible to read the excel directly from the link i.e. `pd.read_excel(\"link\")`. But at the moment I have used a local, edited version of the file"
   ]
  },
  {
   "cell_type": "code",
   "execution_count": null,
   "metadata": {},
   "outputs": [],
   "source": [
    "data = pd.read_csv('https://met.wur.nl/veenkampen/data/2021/02/10min_20210210.txt', sep=\",\", \n",
    "                   header=None)\n",
    "\n",
    "ceasar_df = xr.open_dataset('../data/veenkampen/cesar_surface_flux_lc1_t10_v1.0_201909.nc')\n",
    "\n",
    "headers = pd.read_excel(\"../data/veenkampen/10min/headers_plain.xlsx\", engine='openpyxl')"
   ]
  },
  {
   "cell_type": "code",
   "execution_count": null,
   "metadata": {},
   "outputs": [],
   "source": [
    "headers.columns = list(map(lambda x: x.replace(\".\", \"_\"), headers.columns))\n",
    "headers.columns = list(map(lambda x: x.replace(\"(\", \"_\"), headers.columns))\n",
    "headers.columns = list(map(lambda x: x.replace(\")\", \"_\"), headers.columns))\n",
    "headers.columns = list(map(lambda x: x.replace(\" \", \"_\"), headers.columns))"
   ]
  },
  {
   "cell_type": "code",
   "execution_count": null,
   "metadata": {},
   "outputs": [],
   "source": [
    "headers"
   ]
  },
  {
   "cell_type": "code",
   "execution_count": null,
   "metadata": {},
   "outputs": [],
   "source": [
    "data.columns = headers.columns\n",
    "data"
   ]
  },
  {
   "cell_type": "markdown",
   "metadata": {},
   "source": [
    "---"
   ]
  },
  {
   "cell_type": "markdown",
   "metadata": {},
   "source": [
    "## Coords"
   ]
  },
  {
   "cell_type": "code",
   "execution_count": null,
   "metadata": {},
   "outputs": [],
   "source": [
    "time_df = data[['date','time']]\n",
    "time_df = time_df.copy()"
   ]
  },
  {
   "cell_type": "code",
   "execution_count": null,
   "metadata": {},
   "outputs": [],
   "source": [
    "time_df.head(3)"
   ]
  },
  {
   "cell_type": "code",
   "execution_count": null,
   "metadata": {},
   "outputs": [],
   "source": [
    "time_df['datetime'] = time_df['date'] + ' ' + time_df['time']\n",
    "time_df = time_df.copy()"
   ]
  },
  {
   "cell_type": "code",
   "execution_count": null,
   "metadata": {},
   "outputs": [],
   "source": [
    "time = pd.to_datetime(time_df['datetime'])\n",
    "time.values[:5]"
   ]
  },
  {
   "cell_type": "code",
   "execution_count": null,
   "metadata": {},
   "outputs": [],
   "source": [
    "reference_time = time[0].replace(day=1, minute=0)\n",
    "reference_time"
   ]
  },
  {
   "cell_type": "code",
   "execution_count": null,
   "metadata": {},
   "outputs": [],
   "source": [
    "data.head(3)"
   ]
  },
  {
   "cell_type": "code",
   "execution_count": null,
   "metadata": {},
   "outputs": [],
   "source": [
    "TventDry_mean = data['T_Ventilated_dry']\n",
    "TventDry_min = data['T_Ventilated_dry_1']\n",
    "TventDry_max = data['T_Ventilated_dry_2']\n",
    "\n",
    "TventWet_mean = data['T_ventilated_wet']\n",
    "TventWet_min = data['T_ventilated_wet_1']\n",
    "TventWet_max = data['T_ventilated_wet_2']"
   ]
  },
  {
   "cell_type": "code",
   "execution_count": null,
   "metadata": {},
   "outputs": [],
   "source": [
    "td = (time.apply(lambda x: x - reference_time))\n",
    "time_hrs = td.apply(lambda x: x.total_seconds()/3600)"
   ]
  },
  {
   "cell_type": "code",
   "execution_count": null,
   "metadata": {},
   "outputs": [],
   "source": [
    "time_hrs"
   ]
  },
  {
   "cell_type": "markdown",
   "metadata": {},
   "source": [
    "## data Variables"
   ]
  },
  {
   "cell_type": "code",
   "execution_count": null,
   "metadata": {},
   "outputs": [],
   "source": [
    "variables_attrs = {\n",
    "            'TventDry_mean' :{'standard_name': 'T ventilated dry',\n",
    "                 'measure' : 'mean',\n",
    "                 'units' : ''},\n",
    "                   \n",
    "                }"
   ]
  },
  {
   "cell_type": "code",
   "execution_count": null,
   "metadata": {},
   "outputs": [],
   "source": [
    "coord_attr = {\n",
    "                \"units\": f\"hours since {reference_time}\",\n",
    "                \"standard_name\" : \"time\",\n",
    "             }"
   ]
  },
  {
   "cell_type": "code",
   "execution_count": null,
   "metadata": {},
   "outputs": [],
   "source": [
    "# manual initialization\n",
    "a = xr.Dataset(\n",
    "    coords = {\n",
    "        'time' : (\"time\", time_hrs.values.astype('float32'), coord_attr),\n",
    "        'reference_time': (reference_time),\n",
    "    },\n",
    "    \n",
    "    data_vars = {\n",
    "        'TventDry_mean' : (\"time\", TventDry_mean, variables_attrs['TventDry_mean']),\n",
    "        'TventDry_min' : (\"time\", TventDry_min,),\n",
    "        'TventDry_max' : (\"time\", TventDry_max,),\n",
    "        'TventWet_mean' : (\"time\", TventWet_mean,),\n",
    "        'TventWet_min' : (\"time\", TventWet_min,),\n",
    "        'TventWet_max' : (\"time\", TventWet_max,),\n",
    "    },\n",
    "    \n",
    "    attrs = {\n",
    "        'Conventions' : 'CF',\n",
    "        'Title' : 'Veenkampen',\n",
    "        'Institution' : 'Wageningen University',\n",
    "    },\n",
    ")\n",
    "\n",
    "a"
   ]
  },
  {
   "cell_type": "code",
   "execution_count": null,
   "metadata": {},
   "outputs": [],
   "source": [
    "data = data.drop(['time'], axis=1)\n",
    "data['date'] = data['date'].apply(lambda x: int(x.replace('-', '')))\n",
    "d_no_time = data[data.columns].to_dict()\n",
    "d_fin = {k:(\"time\",pd.Series(v)) for k,v in d_no_time.items()}"
   ]
  },
  {
   "cell_type": "code",
   "execution_count": null,
   "metadata": {},
   "outputs": [],
   "source": [
    "# automatic initialization\n",
    "b = xr.Dataset(\n",
    "    coords = {\n",
    "        'time' : (\"time\", time_hrs.values.astype('float32'), coord_attr),\n",
    "    },\n",
    "    \n",
    "    data_vars = d_fin,\n",
    "    \n",
    "    attrs = {\n",
    "        'Title' : 'Veenkampen',\n",
    "        'Institution' : 'Wageningen University',\n",
    "    },\n",
    ")\n",
    "\n",
    "b"
   ]
  },
  {
   "cell_type": "markdown",
   "metadata": {},
   "source": [
    "Try to find standards for variables names e.g. WMO, CMOR, CF;\n",
    "standards for units, attr..."
   ]
  },
  {
   "cell_type": "markdown",
   "metadata": {},
   "source": [
    "approach\n",
    "1. formatting as it's done now\n",
    "2. focus on just some variables..\n",
    "3. changing some variable from e.g. float 64 to float 32 could be a best practice to save disk space"
   ]
  },
  {
   "cell_type": "code",
   "execution_count": null,
   "metadata": {},
   "outputs": [],
   "source": [
    "b"
   ]
  },
  {
   "cell_type": "markdown",
   "metadata": {},
   "source": [
    "## Writing Netcdf"
   ]
  },
  {
   "cell_type": "code",
   "execution_count": null,
   "metadata": {},
   "outputs": [],
   "source": [
    "comp = dict(zlib=True, complevel=5)\n",
    "encoding = {var: comp for var in b.data_vars}\n",
    "b.to_netcdf(\"../data/veenkampen/10min/10min_20210208.nc\")"
   ]
  },
  {
   "cell_type": "code",
   "execution_count": null,
   "metadata": {},
   "outputs": [],
   "source": [
    "import xarray as xr\n",
    "xr.open_dataset(\"../data/veenkampen/10min/10min_20210208.nc\", decode_times='true')"
   ]
  },
  {
   "cell_type": "code",
   "execution_count": null,
   "metadata": {},
   "outputs": [],
   "source": []
  },
  {
   "cell_type": "code",
   "execution_count": null,
   "metadata": {},
   "outputs": [],
   "source": []
  }
 ],
 "metadata": {
  "kernelspec": {
   "display_name": "Python 3",
   "language": "python",
   "name": "python3"
  },
  "language_info": {
   "codemirror_mode": {
    "name": "ipython",
    "version": 3
   },
   "file_extension": ".py",
   "mimetype": "text/x-python",
   "name": "python",
   "nbconvert_exporter": "python",
   "pygments_lexer": "ipython3",
   "version": "3.7.4"
  }
 },
 "nbformat": 4,
 "nbformat_minor": 4
}
